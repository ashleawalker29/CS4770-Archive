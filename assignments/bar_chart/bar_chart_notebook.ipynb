{
 "cells": [
  {
   "cell_type": "code",
   "execution_count": 1,
   "metadata": {},
   "outputs": [],
   "source": [
    "import os\n",
    "\n",
    "import altair\n",
    "from pandas import read_csv\n",
    "\n",
    "dataset = read_csv(os.path.abspath('../../csv/video_games_sales_as_of_22_Dec_2016.csv'))\n",
    "\n",
    "nintendo_data = dataset[dataset['Publisher'] == 'Nintendo']\n",
    "games_per_platform = nintendo_data.groupby('Platform').count().reset_index()\n",
    "\n",
    "nintendo_platform_chart = altair.Chart(games_per_platform).mark_bar(size = 30).encode(\n",
    "    altair.X('Platform:N', axis = altair.Axis(title='Platform')),\n",
    "    altair.Y('Name:Q', axis = altair.Axis(title='Number of Games')),\n",
    "    altair.Color('Platform:N', scale = altair.Scale(range=['#d20014']), legend = None),\n",
    "    altair.Tooltip(['Name:Q'], title = 'Games')\n",
    ").properties(\n",
    "    width=410,\n",
    "    title='Unique Games Nintendo Published per Nintendo Platform as of December 2016'\n",
    ")\n",
    "\n",
    "nintendo_platform_chart_text = nintendo_platform_chart.mark_text(\n",
    "    baseline =  'middle',\n",
    "    color = 'black',\n",
    "    dy = -7\n",
    ").encode(\n",
    "    text = 'Name:Q',\n",
    "    opacity = altair.value(3.0)\n",
    ")\n",
    "\n",
    "full_bar_chart = nintendo_platform_chart + nintendo_platform_chart_text\n",
    "\n",
    "full_bar_chart.save('bar_chart.html')\n"
   ]
  },
  {
   "cell_type": "code",
   "execution_count": null,
   "metadata": {},
   "outputs": [],
   "source": []
  }
 ],
 "metadata": {
  "kernelspec": {
   "display_name": "Python 3",
   "language": "python",
   "name": "python3"
  },
  "language_info": {
   "codemirror_mode": {
    "name": "ipython",
    "version": 3
   },
   "file_extension": ".py",
   "mimetype": "text/x-python",
   "name": "python",
   "nbconvert_exporter": "python",
   "pygments_lexer": "ipython3",
   "version": "3.8.4"
  }
 },
 "nbformat": 4,
 "nbformat_minor": 4
}
