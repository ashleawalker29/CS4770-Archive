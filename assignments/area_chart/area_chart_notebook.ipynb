{
 "cells": [
  {
   "cell_type": "code",
   "execution_count": 6,
   "metadata": {},
   "outputs": [],
   "source": [
    "import os\n",
    "\n",
    "import altair\n",
    "from pandas import read_csv\n",
    "\n",
    "dataset = read_csv(os.path.abspath('../../csv/video_games_sales_as_of_22_Dec_2016.csv'))\n",
    "\n",
    "# Obtain all publisher's datasets seperately.\n",
    "nintendo_dataset = dataset[dataset['Publisher'] == 'Nintendo']\n",
    "sony_dataset = dataset[dataset['Publisher'] == 'Sony Computer Entertainment']\n",
    "microsoft_dataset = dataset[dataset['Publisher'] == 'Microsoft Game Studios']\n",
    "\n",
    "# Obtain all game titles that have a registered 'Year of Release'.\n",
    "nintendo_data = nintendo_dataset.dropna(subset=['Year_of_Release'])\n",
    "sony_data = sony_dataset.dropna(subset=['Year_of_Release'])\n",
    "microsoft_data = microsoft_dataset.dropna(subset=['Year_of_Release'])\n",
    "\n",
    "# Generate a chart for each game company (Nintendo, Sony, and Microsoft).\n",
    "nintendo_chart = altair.Chart(nintendo_data).mark_area(color='#d20014', opacity=0.3).encode(\n",
    "    altair.X('Year_of_Release:O', axis=altair.Axis(title='Year of Release')),\n",
    "    altair.Y('count()', axis=altair.Axis(title='Number of Games'), stack=None),\n",
    "    altair.Color('Publisher:N', scale=altair.Scale(range=['#0e7a0d', '#d20014', '#003791']))\n",
    ").properties(\n",
    "    title='Games Published by Leading Companies Over Time'\n",
    ")\n",
    "\n",
    "sony_chart = altair.Chart(sony_data).mark_area(opacity=0.3).encode(\n",
    "    altair.X('Year_of_Release:O', axis=altair.Axis(title='Year of Release')),\n",
    "    altair.Y('count()', axis=altair.Axis(title='Number of Games'), stack=None),\n",
    "    altair.Color('Publisher:N')\n",
    ")\n",
    "\n",
    "microsoft_chart = altair.Chart(microsoft_data).mark_area(opacity=0.3).encode(\n",
    "    altair.X('Year_of_Release:O', axis=altair.Axis(title='Year of Release')),\n",
    "    altair.Y('count()', axis=altair.Axis(title='Number of Games'), stack=None),\n",
    "    altair.Color('Publisher:N')\n",
    ")\n",
    "\n",
    "# Layer all generated charts together to form one cohesive chart.\n",
    "game_companies_chart = altair.layer(nintendo_chart, sony_chart)\n",
    "game_companies_chart = altair.layer(game_companies_chart, microsoft_chart)\n",
    "\n",
    "# Generate final chart.\n",
    "game_companies_chart.save('area_chart.html')\n"
   ]
  },
  {
   "cell_type": "code",
   "execution_count": null,
   "metadata": {},
   "outputs": [],
   "source": []
  }
 ],
 "metadata": {
  "kernelspec": {
   "display_name": "Python 3",
   "language": "python",
   "name": "python3"
  },
  "language_info": {
   "codemirror_mode": {
    "name": "ipython",
    "version": 3
   },
   "file_extension": ".py",
   "mimetype": "text/x-python",
   "name": "python",
   "nbconvert_exporter": "python",
   "pygments_lexer": "ipython3",
   "version": "3.8.4"
  }
 },
 "nbformat": 4,
 "nbformat_minor": 4
}
